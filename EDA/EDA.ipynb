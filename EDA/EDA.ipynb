{
 "cells": [
  {
   "cell_type": "markdown",
   "metadata": {},
   "source": [
    "# EDA on Steam kaggle dataset\n",
    "\n",
    "![title](http://overloadr.com.br/wp-content/uploads/2015/06/steam.png)\n",
    "\n",
    "## Arthur Zanatta da Costa\n",
    "## Unicamp\n",
    "## RA: 116194\n",
    "## Date: 04/11/17"
   ]
  },
  {
   "cell_type": "markdown",
   "metadata": {},
   "source": [
    "## About the dataset\n",
    "\n",
    "This dataset was build based on Steam user data. It contains the following **attributes**:\n",
    " \n",
    "* User ids: unique identifier of steam user\n",
    "* Title: title of the game\n",
    "* Status: \n",
    " 1. purchase - the game was purchased by the user\n",
    " 2. play - the game was played by the user\n",
    "* Hours played: Number of hours the user played the game. If Status = 1, then Hours played =  1 just for convention\n",
    "* Dummy: This variable does not have any metadata and its value is always 0.\n",
    "\n",
    "Some interesting properties of this dataset are:\n",
    "\n",
    "* High number of samples\n",
    "* Well formatted\n",
    "\n",
    "The dataset is available at [kaggle](https://www.kaggle.com/tamber/steam-video-games)"
   ]
  },
  {
   "cell_type": "markdown",
   "metadata": {},
   "source": [
    "## About the EDA\n",
    "\n",
    "The first steps of the EDA are pre-processing and some basic questions about the dataset. From the insight of the basic questions, more interesting questions can be formulated. Some of the most important results will be summarized in a visualization."
   ]
  },
  {
   "cell_type": "markdown",
   "metadata": {},
   "source": [
    "## Table of contents\n",
    "\n",
    "* First steps\n",
    "* Data wrangling\n",
    "* How many games users have on Steam?\n",
    "* Which are the most purchased games?\n",
    "* Purchase choices, by user profile\n",
    "* Did one game users entered Steam to play Dota 2?\n",
    "* Percentage of Dota 2 players vs number of games purchased\n",
    "* Final visualization\n",
    "* Conclusion"
   ]
  },
  {
   "cell_type": "markdown",
   "metadata": {},
   "source": [
    "## First steps:\n",
    "\n",
    "Let's start by loading the dataset and pocking it around a bit, to get some general insight."
   ]
  },
  {
   "cell_type": "code",
   "execution_count": 9,
   "metadata": {
    "collapsed": false
   },
   "outputs": [],
   "source": [
    "from matplotlib import pyplot as plt\n",
    "import numpy as np\n",
    "import pandas as pd\n",
    "from pandas import DataFrame\n",
    "from pandas import Series\n",
    "import plotly.plotly as py\n",
    "import plotly.graph_objs as go\n",
    "\n",
    "%matplotlib inline"
   ]
  },
  {
   "cell_type": "code",
   "execution_count": 10,
   "metadata": {
    "collapsed": false
   },
   "outputs": [
    {
     "data": {
      "text/plain": [
       "(200000, 5)"
      ]
     },
     "execution_count": 10,
     "metadata": {},
     "output_type": "execute_result"
    }
   ],
   "source": [
    "df = pd.read_csv('./data/steam-200k.csv', header=None)\n",
    "df.columns = ['User id', 'Title', 'Status', 'Hours played', 'dummy']\n",
    "df.shape"
   ]
  },
  {
   "cell_type": "code",
   "execution_count": 11,
   "metadata": {
    "collapsed": false
   },
   "outputs": [
    {
     "data": {
      "text/html": [
       "<div>\n",
       "<table border=\"1\" class=\"dataframe\">\n",
       "  <thead>\n",
       "    <tr style=\"text-align: right;\">\n",
       "      <th></th>\n",
       "      <th>User id</th>\n",
       "      <th>Title</th>\n",
       "      <th>Status</th>\n",
       "      <th>Hours played</th>\n",
       "      <th>dummy</th>\n",
       "    </tr>\n",
       "  </thead>\n",
       "  <tbody>\n",
       "    <tr>\n",
       "      <th>0</th>\n",
       "      <td>151603712</td>\n",
       "      <td>The Elder Scrolls V Skyrim</td>\n",
       "      <td>purchase</td>\n",
       "      <td>1.0</td>\n",
       "      <td>0</td>\n",
       "    </tr>\n",
       "    <tr>\n",
       "      <th>1</th>\n",
       "      <td>151603712</td>\n",
       "      <td>The Elder Scrolls V Skyrim</td>\n",
       "      <td>play</td>\n",
       "      <td>273.0</td>\n",
       "      <td>0</td>\n",
       "    </tr>\n",
       "    <tr>\n",
       "      <th>2</th>\n",
       "      <td>151603712</td>\n",
       "      <td>Fallout 4</td>\n",
       "      <td>purchase</td>\n",
       "      <td>1.0</td>\n",
       "      <td>0</td>\n",
       "    </tr>\n",
       "    <tr>\n",
       "      <th>3</th>\n",
       "      <td>151603712</td>\n",
       "      <td>Fallout 4</td>\n",
       "      <td>play</td>\n",
       "      <td>87.0</td>\n",
       "      <td>0</td>\n",
       "    </tr>\n",
       "    <tr>\n",
       "      <th>4</th>\n",
       "      <td>151603712</td>\n",
       "      <td>Spore</td>\n",
       "      <td>purchase</td>\n",
       "      <td>1.0</td>\n",
       "      <td>0</td>\n",
       "    </tr>\n",
       "  </tbody>\n",
       "</table>\n",
       "</div>"
      ],
      "text/plain": [
       "     User id                       Title    Status  Hours played  dummy\n",
       "0  151603712  The Elder Scrolls V Skyrim  purchase           1.0      0\n",
       "1  151603712  The Elder Scrolls V Skyrim      play         273.0      0\n",
       "2  151603712                   Fallout 4  purchase           1.0      0\n",
       "3  151603712                   Fallout 4      play          87.0      0\n",
       "4  151603712                       Spore  purchase           1.0      0"
      ]
     },
     "execution_count": 11,
     "metadata": {},
     "output_type": "execute_result"
    }
   ],
   "source": [
    "df.head()"
   ]
  },
  {
   "cell_type": "code",
   "execution_count": 12,
   "metadata": {
    "collapsed": false
   },
   "outputs": [
    {
     "data": {
      "text/html": [
       "<div>\n",
       "<table border=\"1\" class=\"dataframe\">\n",
       "  <thead>\n",
       "    <tr style=\"text-align: right;\">\n",
       "      <th></th>\n",
       "      <th>User id</th>\n",
       "      <th>Title</th>\n",
       "      <th>Status</th>\n",
       "      <th>Hours played</th>\n",
       "      <th>dummy</th>\n",
       "    </tr>\n",
       "  </thead>\n",
       "  <tbody>\n",
       "    <tr>\n",
       "      <th>199995</th>\n",
       "      <td>128470551</td>\n",
       "      <td>Titan Souls</td>\n",
       "      <td>play</td>\n",
       "      <td>1.5</td>\n",
       "      <td>0</td>\n",
       "    </tr>\n",
       "    <tr>\n",
       "      <th>199996</th>\n",
       "      <td>128470551</td>\n",
       "      <td>Grand Theft Auto Vice City</td>\n",
       "      <td>purchase</td>\n",
       "      <td>1.0</td>\n",
       "      <td>0</td>\n",
       "    </tr>\n",
       "    <tr>\n",
       "      <th>199997</th>\n",
       "      <td>128470551</td>\n",
       "      <td>Grand Theft Auto Vice City</td>\n",
       "      <td>play</td>\n",
       "      <td>1.5</td>\n",
       "      <td>0</td>\n",
       "    </tr>\n",
       "    <tr>\n",
       "      <th>199998</th>\n",
       "      <td>128470551</td>\n",
       "      <td>RUSH</td>\n",
       "      <td>purchase</td>\n",
       "      <td>1.0</td>\n",
       "      <td>0</td>\n",
       "    </tr>\n",
       "    <tr>\n",
       "      <th>199999</th>\n",
       "      <td>128470551</td>\n",
       "      <td>RUSH</td>\n",
       "      <td>play</td>\n",
       "      <td>1.4</td>\n",
       "      <td>0</td>\n",
       "    </tr>\n",
       "  </tbody>\n",
       "</table>\n",
       "</div>"
      ],
      "text/plain": [
       "          User id                       Title    Status  Hours played  dummy\n",
       "199995  128470551                 Titan Souls      play           1.5      0\n",
       "199996  128470551  Grand Theft Auto Vice City  purchase           1.0      0\n",
       "199997  128470551  Grand Theft Auto Vice City      play           1.5      0\n",
       "199998  128470551                        RUSH  purchase           1.0      0\n",
       "199999  128470551                        RUSH      play           1.4      0"
      ]
     },
     "execution_count": 12,
     "metadata": {},
     "output_type": "execute_result"
    }
   ],
   "source": [
    "df.tail()"
   ]
  },
  {
   "cell_type": "code",
   "execution_count": 13,
   "metadata": {
    "collapsed": false
   },
   "outputs": [
    {
     "data": {
      "text/html": [
       "<div>\n",
       "<table border=\"1\" class=\"dataframe\">\n",
       "  <thead>\n",
       "    <tr style=\"text-align: right;\">\n",
       "      <th></th>\n",
       "      <th>User id</th>\n",
       "      <th>Title</th>\n",
       "      <th>Status</th>\n",
       "      <th>Hours played</th>\n",
       "      <th>dummy</th>\n",
       "    </tr>\n",
       "  </thead>\n",
       "  <tbody>\n",
       "  </tbody>\n",
       "</table>\n",
       "</div>"
      ],
      "text/plain": [
       "Empty DataFrame\n",
       "Columns: [User id, Title, Status, Hours played, dummy]\n",
       "Index: []"
      ]
     },
     "execution_count": 13,
     "metadata": {},
     "output_type": "execute_result"
    }
   ],
   "source": [
    "#Check if the feature dummy is always equal to 0\n",
    "df[df.dummy != 0]"
   ]
  },
  {
   "cell_type": "code",
   "execution_count": 14,
   "metadata": {
    "collapsed": false
   },
   "outputs": [
    {
     "data": {
      "text/plain": [
       "Status\n",
       "play         70489\n",
       "purchase    129511\n",
       "Name: Title, dtype: int64"
      ]
     },
     "execution_count": 14,
     "metadata": {},
     "output_type": "execute_result"
    }
   ],
   "source": [
    "status_group = df.groupby('Status')\n",
    "status_group.count().Title"
   ]
  },
  {
   "cell_type": "code",
   "execution_count": 15,
   "metadata": {
    "collapsed": false
   },
   "outputs": [
    {
     "data": {
      "text/plain": [
       "False"
      ]
     },
     "execution_count": 15,
     "metadata": {},
     "output_type": "execute_result"
    }
   ],
   "source": [
    "df.isnull().values.any()"
   ]
  },
  {
   "cell_type": "markdown",
   "metadata": {},
   "source": [
    "###  Remakrs\n",
    "\n",
    "* The dummy feature is **useless**, so it will be removed\n",
    "* There are much more samples of purchased games than played games (83, 7 % more)\n",
    "* Nevertheless, the number of samples of played games is very high\n",
    "* The dataset does not have any missing entries"
   ]
  },
  {
   "cell_type": "markdown",
   "metadata": {},
   "source": [
    "## Data wrangling\n",
    "\n",
    "In this step, we will perform some data munge to clean and separate the data into more useful forms. Since this dataset is very well behaved and documented, this step should be very quick."
   ]
  },
  {
   "cell_type": "code",
   "execution_count": 16,
   "metadata": {
    "collapsed": false
   },
   "outputs": [],
   "source": [
    "df = df.drop('dummy', axis=1)\n",
    "purchase_df = df[df.Status == 'purchase']\n",
    "play_df = df[df.Status == 'play']"
   ]
  },
  {
   "cell_type": "code",
   "execution_count": 17,
   "metadata": {
    "collapsed": false
   },
   "outputs": [
    {
     "name": "stdout",
     "output_type": "stream",
     "text": [
      "Purchase dataframe: \n",
      "Number of users: 12393\n",
      "Number of games: 5155\n"
     ]
    }
   ],
   "source": [
    "count_users = len(purchase_df['User id'].unique())\n",
    "count_games = len(purchase_df['Title'].unique())\n",
    "print('Purchase dataframe: ')\n",
    "print('Number of users: {}'.format(count_users))\n",
    "print('Number of games: {}'.format(count_games))"
   ]
  },
  {
   "cell_type": "code",
   "execution_count": 18,
   "metadata": {
    "collapsed": false
   },
   "outputs": [
    {
     "name": "stdout",
     "output_type": "stream",
     "text": [
      "Play dataframe: \n",
      "Number of users: 11350\n",
      "Number of games: 3600\n"
     ]
    }
   ],
   "source": [
    "count_users = len(play_df['User id'].unique())\n",
    "count_games = len(play_df['Title'].unique())\n",
    "print('Play dataframe: ')\n",
    "print('Number of users: {}'.format(count_users))\n",
    "print('Number of games: {}'.format(count_games))"
   ]
  },
  {
   "cell_type": "markdown",
   "metadata": {},
   "source": [
    "### Remarks\n",
    "\n",
    "* Dropped the feature 'dummy', since it is useless\n",
    "* Splitted the original dataframe into two new ones, based if the game was **purchased** or **played**\n",
    "* The two news dataframes maintain a huge amount of users and game samples\n",
    "\n"
   ]
  },
  {
   "cell_type": "markdown",
   "metadata": {},
   "source": [
    "## How many games users have on Steam?\n",
    "\n",
    "![purchase game](http://pad3.whstatic.com/images/thumb/1/18/Buy-PC-Games-on-Steam-Step-7-Version-2.jpg/aid1569236-v4-728px-Buy-PC-Games-on-Steam-Step-7-Version-2.jpg)\n",
    "\n",
    "We want to discover how many games users have on their accounts. We will work with the **purchase dataframe**, since it has more samples and the numbers of hours played is not important."
   ]
  },
  {
   "cell_type": "markdown",
   "metadata": {},
   "source": [
    "### Split by group"
   ]
  },
  {
   "cell_type": "markdown",
   "metadata": {},
   "source": [
    "Let's start by creating a dataframe which shows how many games each user have"
   ]
  },
  {
   "cell_type": "code",
   "execution_count": 19,
   "metadata": {
    "collapsed": false
   },
   "outputs": [
    {
     "data": {
      "text/plain": [
       "User id\n",
       "5250      21\n",
       "76767     36\n",
       "86540     82\n",
       "103360    10\n",
       "144736     8\n",
       "Name: Title, dtype: int64"
      ]
     },
     "execution_count": 19,
     "metadata": {},
     "output_type": "execute_result"
    }
   ],
   "source": [
    "user_group = purchase_df.groupby('User id')\n",
    "games_purchased = user_group.count().Title\n",
    "games_purchased.head()"
   ]
  },
  {
   "cell_type": "code",
   "execution_count": 20,
   "metadata": {
    "collapsed": false
   },
   "outputs": [
    {
     "data": {
      "text/plain": [
       "12393"
      ]
     },
     "execution_count": 20,
     "metadata": {},
     "output_type": "execute_result"
    }
   ],
   "source": [
    "games_purchased.shape[0]"
   ]
  },
  {
   "cell_type": "code",
   "execution_count": 21,
   "metadata": {
    "collapsed": false
   },
   "outputs": [
    {
     "data": {
      "text/html": [
       "<div>\n",
       "<table border=\"1\" class=\"dataframe\">\n",
       "  <thead>\n",
       "    <tr style=\"text-align: right;\">\n",
       "      <th></th>\n",
       "      <th>User id</th>\n",
       "      <th>Purchases</th>\n",
       "    </tr>\n",
       "  </thead>\n",
       "  <tbody>\n",
       "    <tr>\n",
       "      <th>0</th>\n",
       "      <td>5250</td>\n",
       "      <td>21</td>\n",
       "    </tr>\n",
       "    <tr>\n",
       "      <th>1</th>\n",
       "      <td>76767</td>\n",
       "      <td>36</td>\n",
       "    </tr>\n",
       "    <tr>\n",
       "      <th>2</th>\n",
       "      <td>86540</td>\n",
       "      <td>82</td>\n",
       "    </tr>\n",
       "    <tr>\n",
       "      <th>3</th>\n",
       "      <td>103360</td>\n",
       "      <td>10</td>\n",
       "    </tr>\n",
       "    <tr>\n",
       "      <th>4</th>\n",
       "      <td>144736</td>\n",
       "      <td>8</td>\n",
       "    </tr>\n",
       "  </tbody>\n",
       "</table>\n",
       "</div>"
      ],
      "text/plain": [
       "   User id  Purchases\n",
       "0     5250         21\n",
       "1    76767         36\n",
       "2    86540         82\n",
       "3   103360         10\n",
       "4   144736          8"
      ]
     },
     "execution_count": 21,
     "metadata": {},
     "output_type": "execute_result"
    }
   ],
   "source": [
    "games_purchased = games_purchased.reset_index()\n",
    "games_purchased.columns = ['User id', 'Purchases']\n",
    "games_purchased.head()"
   ]
  },
  {
   "cell_type": "markdown",
   "metadata": {},
   "source": [
    "### Summary statistics"
   ]
  },
  {
   "cell_type": "code",
   "execution_count": 22,
   "metadata": {
    "collapsed": false
   },
   "outputs": [
    {
     "data": {
      "text/plain": [
       "count    12393.000000\n",
       "mean        10.450335\n",
       "std         35.864269\n",
       "min          1.000000\n",
       "25%          1.000000\n",
       "50%          2.000000\n",
       "75%          6.000000\n",
       "max       1075.000000\n",
       "Name: Purchases, dtype: float64"
      ]
     },
     "execution_count": 22,
     "metadata": {},
     "output_type": "execute_result"
    }
   ],
   "source": [
    "games_purchased.describe().Purchases"
   ]
  },
  {
   "cell_type": "markdown",
   "metadata": {},
   "source": [
    "### Remarks\n",
    "\n",
    "* The distance between the maximum value and the third quartile is very big (1075 - 6 = 1069). Therefore, this data must have outliers\n",
    "* The standard deviation is high and the median is very different from the mean. \n",
    "\n",
    "From the two statements below, we should consider calculating quantiles with a smaller step and visualize the boxplot for the data;"
   ]
  },
  {
   "cell_type": "code",
   "execution_count": 23,
   "metadata": {
    "collapsed": false
   },
   "outputs": [
    {
     "data": {
      "text/plain": [
       "count    12393.000000\n",
       "mean        10.450335\n",
       "std         35.864269\n",
       "min          1.000000\n",
       "0%           1.000000\n",
       "10%          1.000000\n",
       "20%          1.000000\n",
       "30.0%        1.000000\n",
       "40%          1.000000\n",
       "50%          2.000000\n",
       "60.0%        3.000000\n",
       "70%          5.000000\n",
       "80%          8.000000\n",
       "90%         20.000000\n",
       "max       1075.000000\n",
       "Name: Purchases, dtype: float64"
      ]
     },
     "execution_count": 23,
     "metadata": {},
     "output_type": "execute_result"
    }
   ],
   "source": [
    "quantiles = np.arange(0.0, 1.0, 0.1)\n",
    "games_purchased.describe(percentiles = quantiles).Purchases"
   ]
  },
  {
   "cell_type": "markdown",
   "metadata": {},
   "source": [
    "### Boxplot"
   ]
  },
  {
   "cell_type": "code",
   "execution_count": 24,
   "metadata": {
    "collapsed": false
   },
   "outputs": [
    {
     "data": {
      "text/plain": [
       "([<matplotlib.axis.XTick at 0x7f3691fa4128>],\n",
       " <a list of 1 Text xticklabel objects>)"
      ]
     },
     "execution_count": 24,
     "metadata": {},
     "output_type": "execute_result"
    },
    {
     "data": {
      "image/png": "[encoded data removed]",
      "text/plain": [
       "<matplotlib.figure.Figure at 0x7f3691fe8e80>"
      ]
     },
     "metadata": {},
     "output_type": "display_data"
    }
   ],
   "source": [
    "fig, ax1 = plt.subplots(figsize=(10, 6))\n",
    "bp= plt.boxplot(games_purchased.Purchases.values, '0', 'rx')\n",
    "ax1.yaxis.grid(True, linestyle='-', which='major', color='black',\n",
    "               alpha=0.3)\n",
    "ax1.set_title('Boxplot of number of game purchased by Steam users')\n",
    "plt.xticks([1], ['Purchases'])"
   ]
  },
  {
   "cell_type": "code",
   "execution_count": 25,
   "metadata": {
    "collapsed": false
   },
   "outputs": [
    {
     "data": {
      "image/png": "[encoded data removed]",
      "text/plain": [
       "<matplotlib.figure.Figure at 0x7f3691f41198>"
      ]
     },
     "metadata": {},
     "output_type": "display_data"
    }
   ],
   "source": [
    "fig, ax1 = plt.subplots(figsize=(10, 6))\n",
    "bp= plt.boxplot(games_purchased.Purchases.values, '0', '')\n",
    "ax1.set_title(\n",
    "    '''Boxplot of number of game purchased by Steam users. \n",
    "    Outliers were omitted''')\n",
    "plt.xticks([1], ['Purchases'])\n",
    "plt.yticks(np.arange(0, 15, 1))\n",
    "ax1.yaxis.grid(True, linestyle='-', which='major', color='black',\n",
    "               alpha=0.3, )"
   ]
  },
  {
   "cell_type": "markdown",
   "metadata": {},
   "source": [
    "From the boxplot and the new quantiles, we know that **most than half of the users** have at most 2 games. Also, **almost all users** (more than 80 %) have less then 10. Nevertheless, there is a significant amount of outliers, which we will denote as extreme buyers. It would be interesting to know how the percentage of extreme buyers."
   ]
  },
  {
   "cell_type": "markdown",
   "metadata": {},
   "source": [
    "### Outlier percentage"
   ]
  },
  {
   "cell_type": "code",
   "execution_count": 26,
   "metadata": {
    "collapsed": false
   },
   "outputs": [
    {
     "name": "stdout",
     "output_type": "stream",
     "text": [
      "lower outliers: 0\n",
      "upper outliers: 1677\n",
      "upper outlier limit: 13\n",
      "outlier percentage: 13.53%\n"
     ]
    }
   ],
   "source": [
    "q3 = games_purchased.quantile(0.75).Purchases\n",
    "q1 = games_purchased.quantile(0.25).Purchases\n",
    "iqr = q3 - q1\n",
    "\n",
    "#Number of outliers\n",
    "count_upper_outliers = (\n",
    "    games_purchased.Purchases > (q3 + 1.5 * iqr)).sum()\n",
    "count_lower_outliers = (\n",
    "    games_purchased.Purchases < (q1 - 1.5 * iqr)).sum()\n",
    "outlier_percentage = count_upper_outliers + count_lower_outliers\n",
    "outlier_percentage /= games_purchased.shape[0]\n",
    "\n",
    "print('lower outliers: {}'.format(count_lower_outliers))\n",
    "print('upper outliers: {}'.format(count_upper_outliers))\n",
    "print('upper outlier limit: {}'.format(int(q3 + 1.5 * iqr)))\n",
    "print('outlier percentage: {0:.2f}%'.format(outlier_percentage * 100))"
   ]
  },
  {
   "cell_type": "markdown",
   "metadata": {},
   "source": [
    "### Histogram plot\n",
    "\n",
    "For the final step of this question, we will plot a histogram to help visualize the large concentration of user with own only one or two games"
   ]
  },
  {
   "cell_type": "code",
   "execution_count": 27,
   "metadata": {
    "collapsed": false,
    "scrolled": true
   },
   "outputs": [
    {
     "data": {
      "text/html": [
       "<iframe id=\"igraph\" scrolling=\"no\" style=\"border:none;\" seamless=\"seamless\" src=\"https://plot.ly/~ArthurZanatta/70.embed\" height=\"525px\" width=\"100%\"></iframe>"
      ],
      "text/plain": [
       "<plotly.tools.PlotlyDisplay object>"
      ]
     },
     "execution_count": 27,
     "metadata": {},
     "output_type": "execute_result"
    }
   ],
   "source": [
    "#Informal plot\n",
    "data = [go.Histogram(x=games_purchased.Purchases)]\n",
    "py.iplot(data, filename='purchases-histogram-1')"
   ]
  },
  {
   "cell_type": "markdown",
   "metadata": {},
   "source": [
    "The visualization is not well suited for presentation. Let's reduce the horizontal upper limit"
   ]
  },
  {
   "cell_type": "code",
   "execution_count": 28,
   "metadata": {
    "collapsed": false
   },
   "outputs": [
    {
     "data": {
      "text/html": [
       "<iframe id=\"igraph\" scrolling=\"no\" style=\"border:none;\" seamless=\"seamless\" src=\"https://plot.ly/~ArthurZanatta/72.embed\" height=\"525px\" width=\"100%\"></iframe>"
      ],
      "text/plain": [
       "<plotly.tools.PlotlyDisplay object>"
      ]
     },
     "execution_count": 28,
     "metadata": {},
     "output_type": "execute_result"
    }
   ],
   "source": [
    "trace0 = go.Histogram(\n",
    "    x=games_purchased.Purchases,\n",
    "    histfunc='count',\n",
    "    name='Number of gamers',\n",
    "    autobinx=False,\n",
    "    xbins=dict(\n",
    "        start=0,\n",
    "        end=50,\n",
    "        size=1\n",
    "    )\n",
    ")\n",
    "layout = go.Layout(\n",
    "    title='Histogram of users with a certain amount of games',\n",
    "    xaxis=dict(\n",
    "        title='Number of games'\n",
    "    ),\n",
    "    yaxis=dict(\n",
    "        title='Number of users'\n",
    "    ),\n",
    "    bargap=0.2,\n",
    "    bargroupgap=0.1\n",
    ")\n",
    "data = [trace0]\n",
    "fig = go.Figure(data=data, layout=layout)\n",
    "py.iplot(fig, filename='purchases-histogram-2')"
   ]
  },
  {
   "cell_type": "markdown",
   "metadata": {},
   "source": [
    "### From the histogram"
   ]
  },
  {
   "cell_type": "code",
   "execution_count": 29,
   "metadata": {
    "collapsed": false
   },
   "outputs": [
    {
     "name": "stdout",
     "output_type": "stream",
     "text": [
      "Number of users with one game: 5693.\n",
      "Percentage of users: 45.94 %\n"
     ]
    }
   ],
   "source": [
    "print('Number of users with one game: 5693.')\n",
    "print('Percentage of users: {0:0.2f} %'.format(100 * (5693/12393)))"
   ]
  },
  {
   "cell_type": "markdown",
   "metadata": {},
   "source": [
    "### Remarks\n",
    "\n",
    "* The **average gamer** buys 10 games\n",
    "* Because of the outliers, the mean is not a reliable estimator. The median is a better estimator\n",
    "* The **median** value is 2 games, which means that half or more users only purchased two games\n",
    "* More than 80 % of the users purchased less than 10 games\n",
    "* 13.53 % of the data are upper outliers (extreme buyers with more than 13 games)\n",
    "* The histogram helps us to visualize the rapid decay of number of users with increasing amount of games\n",
    "* We can see clearly that users with one game correspond to a large chunk of the samples (more than 40 %)\n",
    "* From the informal histogram, we can see that we are dealing with a long tail distribution"
   ]
  },
  {
   "cell_type": "markdown",
   "metadata": {},
   "source": [
    "## Which are the most purchased games?\n",
    "\n",
    "![money](http://animal-dream.com/data_images/money/money3.jpg)\n",
    "\n",
    "We want to know which games were the most purchased. We will continue to work with the **purchased dataframe**, since the number of hours played is not important."
   ]
  },
  {
   "cell_type": "code",
   "execution_count": 30,
   "metadata": {
    "collapsed": false
   },
   "outputs": [
    {
     "data": {
      "text/html": [
       "<div>\n",
       "<table border=\"1\" class=\"dataframe\">\n",
       "  <thead>\n",
       "    <tr style=\"text-align: right;\">\n",
       "      <th></th>\n",
       "      <th>Title</th>\n",
       "      <th>Number of purchasers</th>\n",
       "    </tr>\n",
       "  </thead>\n",
       "  <tbody>\n",
       "    <tr>\n",
       "      <th>0</th>\n",
       "      <td>Dota 2</td>\n",
       "      <td>4841</td>\n",
       "    </tr>\n",
       "    <tr>\n",
       "      <th>1</th>\n",
       "      <td>Team Fortress 2</td>\n",
       "      <td>2323</td>\n",
       "    </tr>\n",
       "    <tr>\n",
       "      <th>2</th>\n",
       "      <td>Unturned</td>\n",
       "      <td>1563</td>\n",
       "    </tr>\n",
       "    <tr>\n",
       "      <th>3</th>\n",
       "      <td>Counter-Strike Global Offensive</td>\n",
       "      <td>1412</td>\n",
       "    </tr>\n",
       "    <tr>\n",
       "      <th>4</th>\n",
       "      <td>Half-Life 2 Lost Coast</td>\n",
       "      <td>981</td>\n",
       "    </tr>\n",
       "    <tr>\n",
       "      <th>5</th>\n",
       "      <td>Counter-Strike Source</td>\n",
       "      <td>978</td>\n",
       "    </tr>\n",
       "    <tr>\n",
       "      <th>6</th>\n",
       "      <td>Left 4 Dead 2</td>\n",
       "      <td>951</td>\n",
       "    </tr>\n",
       "    <tr>\n",
       "      <th>7</th>\n",
       "      <td>Counter-Strike</td>\n",
       "      <td>856</td>\n",
       "    </tr>\n",
       "    <tr>\n",
       "      <th>8</th>\n",
       "      <td>Warframe</td>\n",
       "      <td>847</td>\n",
       "    </tr>\n",
       "    <tr>\n",
       "      <th>9</th>\n",
       "      <td>Half-Life 2 Deathmatch</td>\n",
       "      <td>823</td>\n",
       "    </tr>\n",
       "  </tbody>\n",
       "</table>\n",
       "</div>"
      ],
      "text/plain": [
       "                             Title  Number of purchasers\n",
       "0                           Dota 2                  4841\n",
       "1                  Team Fortress 2                  2323\n",
       "2                         Unturned                  1563\n",
       "3  Counter-Strike Global Offensive                  1412\n",
       "4           Half-Life 2 Lost Coast                   981\n",
       "5            Counter-Strike Source                   978\n",
       "6                    Left 4 Dead 2                   951\n",
       "7                   Counter-Strike                   856\n",
       "8                         Warframe                   847\n",
       "9           Half-Life 2 Deathmatch                   823"
      ]
     },
     "execution_count": 30,
     "metadata": {},
     "output_type": "execute_result"
    }
   ],
   "source": [
    "games_group = purchase_df.groupby('Title')\n",
    "game_sell = games_group.count()['User id']\n",
    "rank = game_sell.sort_values(ascending=False)\n",
    "top = rank[:10].reset_index()\n",
    "top.columns = ['Title', 'Number of purchasers']\n",
    "top"
   ]
  },
  {
   "cell_type": "code",
   "execution_count": 31,
   "metadata": {
    "collapsed": false
   },
   "outputs": [
    {
     "name": "stdout",
     "output_type": "stream",
     "text": [
      "Dota 2 purchases are 3.74 % of the total amount\n"
     ]
    }
   ],
   "source": [
    "print(\n",
    "    'Dota 2 purchases are {0:0.2f} % of the total amount'.format(\n",
    "        100 * rank[0]/rank[:].sum()))"
   ]
  },
  {
   "cell_type": "markdown",
   "metadata": {},
   "source": [
    "### Getting more information about the games\n",
    "\n",
    "Let's discover the developers, publishers, genres, year of launch (the lauch of the first version) and price (p2p or f2p) of the top 10 purchased games. Also, let's discover if the games are intended to be played online or offline and if they are available for console. All the information was retrieved from the wikipedia pages of the games."
   ]
  },
  {
   "cell_type": "code",
   "execution_count": 32,
   "metadata": {
    "collapsed": false
   },
   "outputs": [],
   "source": [
    "new_dataframe = DataFrame(\n",
    "    [\n",
    "        ['Dota 2',\n",
    "         'Valve',\n",
    "         'Valve',\n",
    "         'MOBA',\n",
    "         '2013',\n",
    "         'free-to-play',\n",
    "         'online',\n",
    "         'no'\n",
    "        ],\n",
    "        ['Team Fortress 2',\n",
    "         'Valve',\n",
    "         'Valve',\n",
    "         'FPS',\n",
    "         '2013',\n",
    "         'free-to-play',\n",
    "         'online',\n",
    "         'yes'\n",
    "        ],\n",
    "        ['Unturned',\n",
    "         'Smartly Dressed Games',\n",
    "         'Smartly Dressed Games',\n",
    "         'open world/survival',\n",
    "         '2014',\n",
    "         'free-to-play',\n",
    "         'online/offline',\n",
    "         'no'\n",
    "        ],\n",
    "        ['Counter-Strike Global Offensive',\n",
    "         'Valve',\n",
    "         'Valve',\n",
    "         'FPS',\n",
    "         '2012',\n",
    "         'pay-to-play',\n",
    "         'online',\n",
    "         'yes'\n",
    "        ],        \n",
    "        ['Half-Life 2 Lost Coast',\n",
    "         'Valve',\n",
    "         'Valve',\n",
    "         'FPS',\n",
    "         '2005',\n",
    "         'free-to-play',\n",
    "         'offline',\n",
    "         'no'\n",
    "        ],  \n",
    "        ['Counter-Strike Source',\n",
    "         'Valve',\n",
    "         'Valve',\n",
    "         'FPS',\n",
    "         '2004',\n",
    "         'pay-to-play',\n",
    "         'online',\n",
    "         'no'\n",
    "        ],  \n",
    "        ['Left 4 Dead 2',\n",
    "         'Valve',\n",
    "         'Valve',\n",
    "         'FPS/survival horror',\n",
    "         '2009',\n",
    "         'pay-to-play',\n",
    "         'online/offline',\n",
    "         'yes'\n",
    "        ],  \n",
    "        ['Counter-Strike',\n",
    "         'Valve',\n",
    "         'Valve',\n",
    "         'FPS',\n",
    "         '2000',\n",
    "         'pay-to-play',\n",
    "         'online',\n",
    "         'yes'\n",
    "        ],  \n",
    "        ['Warframe',\n",
    "         'Digital Extremes',\n",
    "         'Digital Extremes',\n",
    "         'Third person shooter',\n",
    "         '2013',\n",
    "         'free-to-play',\n",
    "         'online',\n",
    "         'yes'\n",
    "        ],  \n",
    "        ['Half-Life 2 Deathmatch',\n",
    "         'Valve',\n",
    "         'Valve',\n",
    "         'FPS',\n",
    "         '2004',\n",
    "         'pay-to-play',\n",
    "         'online',\n",
    "         'no'\n",
    "        ]                                        \n",
    "    ],\n",
    "    columns=[\n",
    "        'Title', \n",
    "        'developer', \n",
    "        'publisher',\n",
    "        'genre',\n",
    "        'year of release',\n",
    "        'price',\n",
    "        'online/offline', \n",
    "        'console version']\n",
    ")"
   ]
  },
  {
   "cell_type": "code",
   "execution_count": 33,
   "metadata": {
    "collapsed": false
   },
   "outputs": [
    {
     "data": {
      "text/html": [
       "<div>\n",
       "<table border=\"1\" class=\"dataframe\">\n",
       "  <thead>\n",
       "    <tr style=\"text-align: right;\">\n",
       "      <th></th>\n",
       "      <th>Title</th>\n",
       "      <th>Number of purchasers</th>\n",
       "      <th>developer</th>\n",
       "      <th>publisher</th>\n",
       "      <th>genre</th>\n",
       "      <th>year of release</th>\n",
       "      <th>price</th>\n",
       "      <th>online/offline</th>\n",
       "      <th>console version</th>\n",
       "    </tr>\n",
       "  </thead>\n",
       "  <tbody>\n",
       "    <tr>\n",
       "      <th>0</th>\n",
       "      <td>Dota 2</td>\n",
       "      <td>4841</td>\n",
       "      <td>Valve</td>\n",
       "      <td>Valve</td>\n",
       "      <td>MOBA</td>\n",
       "      <td>2013</td>\n",
       "      <td>free-to-play</td>\n",
       "      <td>online</td>\n",
       "      <td>no</td>\n",
       "    </tr>\n",
       "    <tr>\n",
       "      <th>1</th>\n",
       "      <td>Team Fortress 2</td>\n",
       "      <td>2323</td>\n",
       "      <td>Valve</td>\n",
       "      <td>Valve</td>\n",
       "      <td>FPS</td>\n",
       "      <td>2013</td>\n",
       "      <td>free-to-play</td>\n",
       "      <td>online</td>\n",
       "      <td>yes</td>\n",
       "    </tr>\n",
       "    <tr>\n",
       "      <th>2</th>\n",
       "      <td>Unturned</td>\n",
       "      <td>1563</td>\n",
       "      <td>Smartly Dressed Games</td>\n",
       "      <td>Smartly Dressed Games</td>\n",
       "      <td>open world/survival</td>\n",
       "      <td>2014</td>\n",
       "      <td>free-to-play</td>\n",
       "      <td>online/offline</td>\n",
       "      <td>no</td>\n",
       "    </tr>\n",
       "    <tr>\n",
       "      <th>3</th>\n",
       "      <td>Counter-Strike Global Offensive</td>\n",
       "      <td>1412</td>\n",
       "      <td>Valve</td>\n",
       "      <td>Valve</td>\n",
       "      <td>FPS</td>\n",
       "      <td>2012</td>\n",
       "      <td>pay-to-play</td>\n",
       "      <td>online</td>\n",
       "      <td>yes</td>\n",
       "    </tr>\n",
       "    <tr>\n",
       "      <th>4</th>\n",
       "      <td>Half-Life 2 Lost Coast</td>\n",
       "      <td>981</td>\n",
       "      <td>Valve</td>\n",
       "      <td>Valve</td>\n",
       "      <td>FPS</td>\n",
       "      <td>2005</td>\n",
       "      <td>free-to-play</td>\n",
       "      <td>offline</td>\n",
       "      <td>no</td>\n",
       "    </tr>\n",
       "    <tr>\n",
       "      <th>5</th>\n",
       "      <td>Counter-Strike Source</td>\n",
       "      <td>978</td>\n",
       "      <td>Valve</td>\n",
       "      <td>Valve</td>\n",
       "      <td>FPS</td>\n",
       "      <td>2004</td>\n",
       "      <td>pay-to-play</td>\n",
       "      <td>online</td>\n",
       "      <td>no</td>\n",
       "    </tr>\n",
       "    <tr>\n",
       "      <th>6</th>\n",
       "      <td>Left 4 Dead 2</td>\n",
       "      <td>951</td>\n",
       "      <td>Valve</td>\n",
       "      <td>Valve</td>\n",
       "      <td>FPS/survival horror</td>\n",
       "      <td>2009</td>\n",
       "      <td>pay-to-play</td>\n",
       "      <td>online/offline</td>\n",
       "      <td>yes</td>\n",
       "    </tr>\n",
       "    <tr>\n",
       "      <th>7</th>\n",
       "      <td>Counter-Strike</td>\n",
       "      <td>856</td>\n",
       "      <td>Valve</td>\n",
       "      <td>Valve</td>\n",
       "      <td>FPS</td>\n",
       "      <td>2000</td>\n",
       "      <td>pay-to-play</td>\n",
       "      <td>online</td>\n",
       "      <td>yes</td>\n",
       "    </tr>\n",
       "    <tr>\n",
       "      <th>8</th>\n",
       "      <td>Warframe</td>\n",
       "      <td>847</td>\n",
       "      <td>Digital Extremes</td>\n",
       "      <td>Digital Extremes</td>\n",
       "      <td>Third person shooter</td>\n",
       "      <td>2013</td>\n",
       "      <td>free-to-play</td>\n",
       "      <td>online</td>\n",
       "      <td>yes</td>\n",
       "    </tr>\n",
       "    <tr>\n",
       "      <th>9</th>\n",
       "      <td>Half-Life 2 Deathmatch</td>\n",
       "      <td>823</td>\n",
       "      <td>Valve</td>\n",
       "      <td>Valve</td>\n",
       "      <td>FPS</td>\n",
       "      <td>2004</td>\n",
       "      <td>pay-to-play</td>\n",
       "      <td>online</td>\n",
       "      <td>no</td>\n",
       "    </tr>\n",
       "  </tbody>\n",
       "</table>\n",
       "</div>"
      ],
      "text/plain": [
       "                             Title  Number of purchasers  \\\n",
       "0                           Dota 2                  4841   \n",
       "1                  Team Fortress 2                  2323   \n",
       "2                         Unturned                  1563   \n",
       "3  Counter-Strike Global Offensive                  1412   \n",
       "4           Half-Life 2 Lost Coast                   981   \n",
       "5            Counter-Strike Source                   978   \n",
       "6                    Left 4 Dead 2                   951   \n",
       "7                   Counter-Strike                   856   \n",
       "8                         Warframe                   847   \n",
       "9           Half-Life 2 Deathmatch                   823   \n",
       "\n",
       "               developer              publisher                 genre  \\\n",
       "0                  Valve                  Valve                  MOBA   \n",
       "1                  Valve                  Valve                   FPS   \n",
       "2  Smartly Dressed Games  Smartly Dressed Games   open world/survival   \n",
       "3                  Valve                  Valve                   FPS   \n",
       "4                  Valve                  Valve                   FPS   \n",
       "5                  Valve                  Valve                   FPS   \n",
       "6                  Valve                  Valve   FPS/survival horror   \n",
       "7                  Valve                  Valve                   FPS   \n",
       "8       Digital Extremes       Digital Extremes  Third person shooter   \n",
       "9                  Valve                  Valve                   FPS   \n",
       "\n",
       "  year of release         price  online/offline console version  \n",
       "0            2013  free-to-play          online              no  \n",
       "1            2013  free-to-play          online             yes  \n",
       "2            2014  free-to-play  online/offline              no  \n",
       "3            2012   pay-to-play          online             yes  \n",
       "4            2005  free-to-play         offline              no  \n",
       "5            2004   pay-to-play          online              no  \n",
       "6            2009   pay-to-play  online/offline             yes  \n",
       "7            2000   pay-to-play          online             yes  \n",
       "8            2013  free-to-play          online             yes  \n",
       "9            2004   pay-to-play          online              no  "
      ]
     },
     "execution_count": 33,
     "metadata": {},
     "output_type": "execute_result"
    }
   ],
   "source": [
    "augmented_df = pd.merge(top, new_dataframe)\n",
    "augmented_df"
   ]
  },
  {
   "cell_type": "markdown",
   "metadata": {},
   "source": [
    "### Visualization of the augmented dataframe\n",
    "\n",
    "It is not straightfoward to look at all the fields of the augmented dataframe and have insight. Therefore, we will visualize the most important aspects of the augmented dataframe to help us to acquire the information that the data holds."
   ]
  },
  {
   "cell_type": "code",
   "execution_count": 34,
   "metadata": {
    "collapsed": false
   },
   "outputs": [
    {
     "data": {
      "text/html": [
       "<iframe id=\"igraph\" scrolling=\"no\" style=\"border:none;\" seamless=\"seamless\" src=\"https://plot.ly/~ArthurZanatta/92.embed\" height=\"525px\" width=\"100%\"></iframe>"
      ],
      "text/plain": [
       "<plotly.tools.PlotlyDisplay object>"
      ]
     },
     "execution_count": 34,
     "metadata": {},
     "output_type": "execute_result"
    }
   ],
   "source": [
    "titles = top.Title.values\n",
    "titles[3] = 'Counter-Strike GO'\n",
    "titles[9] = 'Half-Life 2 DM'\n",
    "\n",
    "bar_color = [\n",
    "    'rgb(0,0,200)',\n",
    "    'rgb(0,0,200)',\n",
    "    'rgb(200,0,0)',\n",
    "    'rgb(0,0,200)',\n",
    "    'rgb(0,0,200)',\n",
    "    'rgb(0,0,200)',\n",
    "    'rgb(0,0,200)',\n",
    "    'rgb(0,0,200)',\n",
    "    'rgb(0,200,0)',\n",
    "    'rgb(0,0,200)'\n",
    "]\n",
    "\n",
    "line_color = [\n",
    "    'rgb(8,48,107)',\n",
    "    'rgb(8,48,107)',\n",
    "    'rgb(8,48,107)',\n",
    "    'rgb(8,48,107)',\n",
    "    'rgb(8,48,107)',\n",
    "    'rgb(8,48,107)',\n",
    "    'rgb(8,48,107)',\n",
    "    'rgb(8,48,107)',\n",
    "    'rgb(8,48,107)',\n",
    "    'rgb(8,48,107)'\n",
    "]\n",
    "\n",
    "trace0 = go.Bar(\n",
    "    x=titles,\n",
    "    y=augmented_df['Number of purchasers'].values,\n",
    "    text=augmented_df.genre.values,\n",
    "    marker=dict(\n",
    "        color=bar_color,\n",
    "        line=dict(\n",
    "            color=line_color,\n",
    "            width=1.5,\n",
    "        )\n",
    "    ),\n",
    "    opacity=0.8   \n",
    ")\n",
    "\n",
    "data = [trace0]\n",
    "layout = go.Layout(\n",
    "    title='Top 10 most purchased games by Steam users',\n",
    "    yaxis=dict(\n",
    "        title='Purchases',\n",
    "        titlefont=dict(\n",
    "            family='Courier New, monospace',\n",
    "            size=18,\n",
    "            color='#7f7f7f'\n",
    "        )\n",
    "    )\n",
    ")\n",
    "\n",
    "text = [\n",
    "    'Valve', \n",
    "    'Smartly Dressed Games', \n",
    "    'Digital Extremes', \n",
    "    'F2P - free-to-play',\n",
    "    'P2P - pay-to-play',\n",
    "    'on - online game',\n",
    "    'off - offline game']\n",
    "\n",
    "text_color = [\n",
    "    'rgb(0,0,200)',\n",
    "    'rgb(200,0,0)',\n",
    "    'rgb(0,200,0)',\n",
    "    'rgb(0, 0, 0)',\n",
    "    'rgb(0, 0, 0)',\n",
    "    'rgb(0, 0, 0)',\n",
    "    'rgb(0, 0, 0)']\n",
    "\n",
    "game_price = augmented_df['price'].values\n",
    "game_price = [\n",
    "    'F2P' if price=='free-to-play' else 'P2P' for price in game_price]\n",
    "\n",
    "game_mode = augmented_df['online/offline'].values\n",
    "game_mode = [\n",
    "    'off' if mode=='offline' \n",
    "    else 'on/off' if mode=='online/offline'\n",
    "    else 'on' for mode in game_mode\n",
    "]\n",
    "\n",
    "annotations = []\n",
    "for i, _ in enumerate(text):\n",
    "    annotations.append(\n",
    "        dict(\n",
    "            x=10, y=5000 - 500 * i, text=text[i],\n",
    "            font=dict(\n",
    "                family='Arial', \n",
    "                size=12,\n",
    "                color=text_color[i]\n",
    "            ),\n",
    "        showarrow=False,)\n",
    "    )\n",
    "annotations += [\n",
    "    dict(\n",
    "        x=titles[i],\n",
    "        y=augmented_df['Number of purchasers'].values[i],\n",
    "        text=game_price[i],\n",
    "        xanchor='center',\n",
    "        yanchor='bottom',\n",
    "        showarrow=False,\n",
    "    ) for i, _ in enumerate(game_price)]\n",
    "annotations += [\n",
    "    dict(\n",
    "        x=titles[i],\n",
    "        y=augmented_df['Number of purchasers'].values[i]/2,\n",
    "        text=game_mode[i],\n",
    "        xanchor='center',\n",
    "        yanchor='bottom',\n",
    "        font=dict(\n",
    "            family='Arial', \n",
    "            size=10,\n",
    "            color='rgb(255, 255, 255)'),\n",
    "        showarrow=False,\n",
    "    ) for i, _ in enumerate(game_mode)] \n",
    "annotations += [\n",
    "    dict(x= 5 ,\n",
    "         y= 5500,\n",
    "         text='Developers and publishers are identified by color',\n",
    "         xanchor='center',\n",
    "         yanchor='bottom',\n",
    "         font=dict(\n",
    "            family='Arial', \n",
    "            size=12,\n",
    "            color='rgb(0, 0, 0)'),\n",
    "         showarrow=False,\n",
    "        )]\n",
    "annotations += [\n",
    "    dict(x= 5 ,\n",
    "         y= 5000,\n",
    "         text='Hover over the game bar to see genre',\n",
    "         xanchor='center',\n",
    "         yanchor='bottom',\n",
    "         font=dict(\n",
    "            family='Arial', \n",
    "            size=12,\n",
    "            color='rgb(0, 0, 0)'),\n",
    "         showarrow=False,\n",
    "        )]\n",
    "    \n",
    "layout['annotations'] = annotations\n",
    "\n",
    "fig = go.Figure(data=data, layout=layout)\n",
    "py.iplot(fig, filename='top-10-purchaes-bar-chart-1')"
   ]
  },
  {
   "cell_type": "markdown",
   "metadata": {},
   "source": [
    "### Remarks\n",
    "\n",
    "* 8 of the 10 most purchased games by Steam users are **developed and published by Valve** (The same company behind the Steam)\n",
    "* There is the **same amount** of pay-to-play and free-to-play games in the list. This surprised me, because I thought that F2P games would be more purchased than P2P.\n",
    "* 7 of the 10 most purchased games are FPS and 8 are shoooters\n",
    "* Dota 2, one of the most popular games in e-sports, is number one in rankings. It purchases corresponds to **3.74 % of the total amount** and it is more than the **double** of the second place (Team Fortress 2).\n",
    "* Half of the most purchased game are mods/extensions of Half Life (3 Counter Strikes, Half Life 2 Deathmatch, Half Life 2 Lost Coast)\n",
    "* 8 of the 10 most purchased games can only be played online or are most well known for their online mode"
   ]
  },
  {
   "cell_type": "markdown",
   "metadata": {},
   "source": [
    "## Purchase choices, by user profile\n",
    "\n",
    "![choice](https://encrypted-tbn0.gstatic.com/images?q=tbn:ANd9GcTHLJTTFvDUHpamLSVzok_JdiHRR0m3x2iTr0s3SL7DCeRVuyu47A)\n",
    "\n",
    "The final question regarding the purchase of games is which games the median/extreme user tends to purchase. Is the choices of the median player equal to the ones of the extreme player? Again, we will work with the **purchase dataframe**"
   ]
  },
  {
   "cell_type": "markdown",
   "metadata": {},
   "source": [
    "### Outlier separation"
   ]
  },
  {
   "cell_type": "code",
   "execution_count": 35,
   "metadata": {
    "collapsed": false
   },
   "outputs": [],
   "source": [
    "upper_outliers = games_purchased[\n",
    "    games_purchased.Purchases.values > q3 + 1.5 * iqr]\n",
    "standard_data = games_purchased[\n",
    "    games_purchased.Purchases.values <= q3 + 1.5 * iqr]"
   ]
  },
  {
   "cell_type": "code",
   "execution_count": 36,
   "metadata": {
    "collapsed": false
   },
   "outputs": [],
   "source": [
    "users_ids = purchase_df['User id'].isin(upper_outliers['User id'])\n",
    "outlier_df = purchase_df[users_ids]"
   ]
  },
  {
   "cell_type": "code",
   "execution_count": 37,
   "metadata": {
    "collapsed": false
   },
   "outputs": [
    {
     "name": "stdout",
     "output_type": "stream",
     "text": [
      "Most purchased games by extreme buyers\n",
      "\n"
     ]
    },
    {
     "data": {
      "text/html": [
       "<div>\n",
       "<table border=\"1\" class=\"dataframe\">\n",
       "  <thead>\n",
       "    <tr style=\"text-align: right;\">\n",
       "      <th></th>\n",
       "      <th>Title</th>\n",
       "      <th>Number of purchasers</th>\n",
       "    </tr>\n",
       "  </thead>\n",
       "  <tbody>\n",
       "    <tr>\n",
       "      <th>0</th>\n",
       "      <td>Team Fortress 2</td>\n",
       "      <td>891</td>\n",
       "    </tr>\n",
       "    <tr>\n",
       "      <th>1</th>\n",
       "      <td>Counter-Strike Global Offensive</td>\n",
       "      <td>799</td>\n",
       "    </tr>\n",
       "    <tr>\n",
       "      <th>2</th>\n",
       "      <td>Dota 2</td>\n",
       "      <td>742</td>\n",
       "    </tr>\n",
       "    <tr>\n",
       "      <th>3</th>\n",
       "      <td>Left 4 Dead 2</td>\n",
       "      <td>654</td>\n",
       "    </tr>\n",
       "    <tr>\n",
       "      <th>4</th>\n",
       "      <td>Unturned</td>\n",
       "      <td>649</td>\n",
       "    </tr>\n",
       "    <tr>\n",
       "      <th>5</th>\n",
       "      <td>The Elder Scrolls V Skyrim</td>\n",
       "      <td>539</td>\n",
       "    </tr>\n",
       "    <tr>\n",
       "      <th>6</th>\n",
       "      <td>Garry's Mod</td>\n",
       "      <td>536</td>\n",
       "    </tr>\n",
       "    <tr>\n",
       "      <th>7</th>\n",
       "      <td>Counter-Strike Source</td>\n",
       "      <td>510</td>\n",
       "    </tr>\n",
       "    <tr>\n",
       "      <th>8</th>\n",
       "      <td>Half-Life 2 Lost Coast</td>\n",
       "      <td>486</td>\n",
       "    </tr>\n",
       "    <tr>\n",
       "      <th>9</th>\n",
       "      <td>Portal 2</td>\n",
       "      <td>467</td>\n",
       "    </tr>\n",
       "  </tbody>\n",
       "</table>\n",
       "</div>"
      ],
      "text/plain": [
       "                             Title  Number of purchasers\n",
       "0                  Team Fortress 2                   891\n",
       "1  Counter-Strike Global Offensive                   799\n",
       "2                           Dota 2                   742\n",
       "3                    Left 4 Dead 2                   654\n",
       "4                         Unturned                   649\n",
       "5       The Elder Scrolls V Skyrim                   539\n",
       "6                      Garry's Mod                   536\n",
       "7            Counter-Strike Source                   510\n",
       "8           Half-Life 2 Lost Coast                   486\n",
       "9                         Portal 2                   467"
      ]
     },
     "execution_count": 37,
     "metadata": {},
     "output_type": "execute_result"
    }
   ],
   "source": [
    "group = outlier_df.groupby('Title')\n",
    "taste_outlier = group.count()\n",
    "rank = taste_outlier['User id'].sort_values(ascending=False)\n",
    "\n",
    "print('Most purchased games by extreme buyers\\n')\n",
    "top_outlier = rank[:10].reset_index()\n",
    "top_outlier.columns = ['Title', 'Number of purchasers']\n",
    "top_outlier"
   ]
  },
  {
   "cell_type": "code",
   "execution_count": 38,
   "metadata": {
    "collapsed": false,
    "scrolled": true
   },
   "outputs": [
    {
     "name": "stdout",
     "output_type": "stream",
     "text": [
      "Most purchased games by extreme buyers\n",
      "\n"
     ]
    },
    {
     "data": {
      "text/html": [
       "<div>\n",
       "<table border=\"1\" class=\"dataframe\">\n",
       "  <thead>\n",
       "    <tr style=\"text-align: right;\">\n",
       "      <th></th>\n",
       "      <th>Title</th>\n",
       "      <th>Number of purchasers</th>\n",
       "    </tr>\n",
       "  </thead>\n",
       "  <tbody>\n",
       "    <tr>\n",
       "      <th>0</th>\n",
       "      <td>Dota 2</td>\n",
       "      <td>4099</td>\n",
       "    </tr>\n",
       "    <tr>\n",
       "      <th>1</th>\n",
       "      <td>Team Fortress 2</td>\n",
       "      <td>1432</td>\n",
       "    </tr>\n",
       "    <tr>\n",
       "      <th>2</th>\n",
       "      <td>Unturned</td>\n",
       "      <td>914</td>\n",
       "    </tr>\n",
       "    <tr>\n",
       "      <th>3</th>\n",
       "      <td>Counter-Strike Global Offensive</td>\n",
       "      <td>613</td>\n",
       "    </tr>\n",
       "    <tr>\n",
       "      <th>4</th>\n",
       "      <td>Half-Life 2 Lost Coast</td>\n",
       "      <td>495</td>\n",
       "    </tr>\n",
       "    <tr>\n",
       "      <th>5</th>\n",
       "      <td>Counter-Strike</td>\n",
       "      <td>483</td>\n",
       "    </tr>\n",
       "    <tr>\n",
       "      <th>6</th>\n",
       "      <td>Counter-Strike Source</td>\n",
       "      <td>468</td>\n",
       "    </tr>\n",
       "    <tr>\n",
       "      <th>7</th>\n",
       "      <td>Half-Life 2 Deathmatch</td>\n",
       "      <td>451</td>\n",
       "    </tr>\n",
       "    <tr>\n",
       "      <th>8</th>\n",
       "      <td>Warframe</td>\n",
       "      <td>382</td>\n",
       "    </tr>\n",
       "    <tr>\n",
       "      <th>9</th>\n",
       "      <td>Counter-Strike Condition Zero Deleted Scenes</td>\n",
       "      <td>371</td>\n",
       "    </tr>\n",
       "  </tbody>\n",
       "</table>\n",
       "</div>"
      ],
      "text/plain": [
       "                                          Title  Number of purchasers\n",
       "0                                        Dota 2                  4099\n",
       "1                               Team Fortress 2                  1432\n",
       "2                                      Unturned                   914\n",
       "3               Counter-Strike Global Offensive                   613\n",
       "4                        Half-Life 2 Lost Coast                   495\n",
       "5                                Counter-Strike                   483\n",
       "6                         Counter-Strike Source                   468\n",
       "7                        Half-Life 2 Deathmatch                   451\n",
       "8                                      Warframe                   382\n",
       "9  Counter-Strike Condition Zero Deleted Scenes                   371"
      ]
     },
     "execution_count": 38,
     "metadata": {},
     "output_type": "execute_result"
    }
   ],
   "source": [
    "users_ids = purchase_df['User id'].isin(standard_data['User id'])\n",
    "standard_df = purchase_df[users_ids]\n",
    "\n",
    "group = standard_df.groupby('Title')\n",
    "taste_standard = group.count()\n",
    "rank = taste_standard['User id'].sort_values(ascending=False)\n",
    "\n",
    "print('Most purchased games by extreme buyers\\n')\n",
    "top_standard = rank[:10].reset_index()\n",
    "top_standard.columns = ['Title', 'Number of purchasers']\n",
    "top_standard"
   ]
  },
  {
   "cell_type": "code",
   "execution_count": 39,
   "metadata": {
    "collapsed": false
   },
   "outputs": [
    {
     "data": {
      "text/html": [
       "<div>\n",
       "<table border=\"1\" class=\"dataframe\">\n",
       "  <thead>\n",
       "    <tr style=\"text-align: right;\">\n",
       "      <th></th>\n",
       "      <th>Ranking for extreme purchasers</th>\n",
       "      <th>Number of purchasers</th>\n",
       "      <th>Ranking for standard purchasers</th>\n",
       "      <th>Number of purchasers</th>\n",
       "      <th>Total ranking</th>\n",
       "      <th>Number of purchasers</th>\n",
       "    </tr>\n",
       "  </thead>\n",
       "  <tbody>\n",
       "    <tr>\n",
       "      <th>1</th>\n",
       "      <td>Team Fortress 2</td>\n",
       "      <td>891</td>\n",
       "      <td>Dota 2</td>\n",
       "      <td>4099</td>\n",
       "      <td>Dota 2</td>\n",
       "      <td>4841</td>\n",
       "    </tr>\n",
       "    <tr>\n",
       "      <th>2</th>\n",
       "      <td>Counter-Strike Global Offensive</td>\n",
       "      <td>799</td>\n",
       "      <td>Team Fortress 2</td>\n",
       "      <td>1432</td>\n",
       "      <td>Team Fortress 2</td>\n",
       "      <td>2323</td>\n",
       "    </tr>\n",
       "    <tr>\n",
       "      <th>3</th>\n",
       "      <td>Dota 2</td>\n",
       "      <td>742</td>\n",
       "      <td>Unturned</td>\n",
       "      <td>914</td>\n",
       "      <td>Unturned</td>\n",
       "      <td>1563</td>\n",
       "    </tr>\n",
       "    <tr>\n",
       "      <th>4</th>\n",
       "      <td>Left 4 Dead 2</td>\n",
       "      <td>654</td>\n",
       "      <td>Counter-Strike Global Offensive</td>\n",
       "      <td>613</td>\n",
       "      <td>Counter-Strike GO</td>\n",
       "      <td>1412</td>\n",
       "    </tr>\n",
       "    <tr>\n",
       "      <th>5</th>\n",
       "      <td>Unturned</td>\n",
       "      <td>649</td>\n",
       "      <td>Half-Life 2 Lost Coast</td>\n",
       "      <td>495</td>\n",
       "      <td>Half-Life 2 Lost Coast</td>\n",
       "      <td>981</td>\n",
       "    </tr>\n",
       "    <tr>\n",
       "      <th>6</th>\n",
       "      <td>The Elder Scrolls V Skyrim</td>\n",
       "      <td>539</td>\n",
       "      <td>Counter-Strike</td>\n",
       "      <td>483</td>\n",
       "      <td>Counter-Strike Source</td>\n",
       "      <td>978</td>\n",
       "    </tr>\n",
       "    <tr>\n",
       "      <th>7</th>\n",
       "      <td>Garry's Mod</td>\n",
       "      <td>536</td>\n",
       "      <td>Counter-Strike Source</td>\n",
       "      <td>468</td>\n",
       "      <td>Left 4 Dead 2</td>\n",
       "      <td>951</td>\n",
       "    </tr>\n",
       "    <tr>\n",
       "      <th>8</th>\n",
       "      <td>Counter-Strike Source</td>\n",
       "      <td>510</td>\n",
       "      <td>Half-Life 2 Deathmatch</td>\n",
       "      <td>451</td>\n",
       "      <td>Counter-Strike</td>\n",
       "      <td>856</td>\n",
       "    </tr>\n",
       "    <tr>\n",
       "      <th>9</th>\n",
       "      <td>Half-Life 2 Lost Coast</td>\n",
       "      <td>486</td>\n",
       "      <td>Warframe</td>\n",
       "      <td>382</td>\n",
       "      <td>Warframe</td>\n",
       "      <td>847</td>\n",
       "    </tr>\n",
       "    <tr>\n",
       "      <th>10</th>\n",
       "      <td>Portal 2</td>\n",
       "      <td>467</td>\n",
       "      <td>Counter-Strike Condition Zero Deleted Scenes</td>\n",
       "      <td>371</td>\n",
       "      <td>Half-Life 2 DM</td>\n",
       "      <td>823</td>\n",
       "    </tr>\n",
       "  </tbody>\n",
       "</table>\n",
       "</div>"
      ],
      "text/plain": [
       "     Ranking for extreme purchasers  Number of purchasers  \\\n",
       "1                   Team Fortress 2                   891   \n",
       "2   Counter-Strike Global Offensive                   799   \n",
       "3                            Dota 2                   742   \n",
       "4                     Left 4 Dead 2                   654   \n",
       "5                          Unturned                   649   \n",
       "6        The Elder Scrolls V Skyrim                   539   \n",
       "7                       Garry's Mod                   536   \n",
       "8             Counter-Strike Source                   510   \n",
       "9            Half-Life 2 Lost Coast                   486   \n",
       "10                         Portal 2                   467   \n",
       "\n",
       "                 Ranking for standard purchasers  Number of purchasers  \\\n",
       "1                                         Dota 2                  4099   \n",
       "2                                Team Fortress 2                  1432   \n",
       "3                                       Unturned                   914   \n",
       "4                Counter-Strike Global Offensive                   613   \n",
       "5                         Half-Life 2 Lost Coast                   495   \n",
       "6                                 Counter-Strike                   483   \n",
       "7                          Counter-Strike Source                   468   \n",
       "8                         Half-Life 2 Deathmatch                   451   \n",
       "9                                       Warframe                   382   \n",
       "10  Counter-Strike Condition Zero Deleted Scenes                   371   \n",
       "\n",
       "             Total ranking  Number of purchasers  \n",
       "1                   Dota 2                  4841  \n",
       "2          Team Fortress 2                  2323  \n",
       "3                 Unturned                  1563  \n",
       "4        Counter-Strike GO                  1412  \n",
       "5   Half-Life 2 Lost Coast                   981  \n",
       "6    Counter-Strike Source                   978  \n",
       "7            Left 4 Dead 2                   951  \n",
       "8           Counter-Strike                   856  \n",
       "9                 Warframe                   847  \n",
       "10          Half-Life 2 DM                   823  "
      ]
     },
     "execution_count": 39,
     "metadata": {},
     "output_type": "execute_result"
    }
   ],
   "source": [
    "table_ranking = pd.concat([top_outlier, top_standard, top], axis=1)\n",
    "table_ranking.columns = [\n",
    "    'Ranking for extreme purchasers',\n",
    "    'Number of purchasers',\n",
    "    'Ranking for standard purchasers',\n",
    "    'Number of purchasers',\n",
    "    'Total ranking',\n",
    "    'Number of purchasers'\n",
    "]\n",
    "table_ranking.index += 1\n",
    "table_ranking"
   ]
  },
  {
   "cell_type": "markdown",
   "metadata": {},
   "source": [
    "### Remarks\n",
    "\n",
    "* The top 10 purchased games **are different** for extreme, standard and total buyers. The difference is both in content (different games) and order (same game in different positions)\n",
    "* Extreme buyers introduced 3 new games to the ranking: Skyrim, Garry's Mod and Portal 2\n",
    "* Standard buyers introduced 1 new game to the ranking: CS Condition Zero Deleted Scenes\n",
    "* Dota 2 was ranked number 3 for extreme purchasers, whereas is number 1 by far in the two other ranking\n",
    "* Surprisingly, Garry's Mod, which a pay-to-play sandbox game, was listed among the top 10 games in the extreme ranking"
   ]
  },
  {
   "cell_type": "markdown",
   "metadata": {},
   "source": [
    "## Did one game users entered Steam to play Dota 2?\n",
    "\n",
    "![dota 2](https://hydra-media.cursecdn.com/dota2.gamepedia.com/5/52/Dota_2.png?version=29fab031014ff95828dca90be4d5d684)\n",
    "\n",
    "From the last question, we discovered that Dota 2 is more popular among users which are not outliers. Since Dota 2 popularity is bigger among players with less games, it would be interesting to see **how many players have only Dota 2 in their account**. We will continue to work with the **purchase dataframe**."
   ]
  },
  {
   "cell_type": "code",
   "execution_count": 40,
   "metadata": {
    "collapsed": false
   },
   "outputs": [
    {
     "name": "stdout",
     "output_type": "stream",
     "text": [
      "Most purchased games by people that only own one game\n",
      "\n"
     ]
    },
    {
     "data": {
      "text/html": [
       "<div>\n",
       "<table border=\"1\" class=\"dataframe\">\n",
       "  <thead>\n",
       "    <tr style=\"text-align: right;\">\n",
       "      <th></th>\n",
       "      <th>Title</th>\n",
       "      <th>Number of users</th>\n",
       "    </tr>\n",
       "  </thead>\n",
       "  <tbody>\n",
       "    <tr>\n",
       "      <th>0</th>\n",
       "      <td>Dota 2</td>\n",
       "      <td>2858</td>\n",
       "    </tr>\n",
       "    <tr>\n",
       "      <th>1</th>\n",
       "      <td>Team Fortress 2</td>\n",
       "      <td>582</td>\n",
       "    </tr>\n",
       "    <tr>\n",
       "      <th>2</th>\n",
       "      <td>Unturned</td>\n",
       "      <td>191</td>\n",
       "    </tr>\n",
       "    <tr>\n",
       "      <th>3</th>\n",
       "      <td>Counter-Strike Global Offensive</td>\n",
       "      <td>91</td>\n",
       "    </tr>\n",
       "    <tr>\n",
       "      <th>4</th>\n",
       "      <td>Sid Meier's Civilization V</td>\n",
       "      <td>88</td>\n",
       "    </tr>\n",
       "    <tr>\n",
       "      <th>5</th>\n",
       "      <td>Left 4 Dead 2</td>\n",
       "      <td>61</td>\n",
       "    </tr>\n",
       "    <tr>\n",
       "      <th>6</th>\n",
       "      <td>Empire Total War</td>\n",
       "      <td>43</td>\n",
       "    </tr>\n",
       "    <tr>\n",
       "      <th>7</th>\n",
       "      <td>Counter-Strike Nexon Zombies</td>\n",
       "      <td>39</td>\n",
       "    </tr>\n",
       "    <tr>\n",
       "      <th>8</th>\n",
       "      <td>Serious Sam HD The Second Encounter</td>\n",
       "      <td>32</td>\n",
       "    </tr>\n",
       "    <tr>\n",
       "      <th>9</th>\n",
       "      <td>The Elder Scrolls V Skyrim</td>\n",
       "      <td>30</td>\n",
       "    </tr>\n",
       "  </tbody>\n",
       "</table>\n",
       "</div>"
      ],
      "text/plain": [
       "                                 Title  Number of users\n",
       "0                               Dota 2             2858\n",
       "1                      Team Fortress 2              582\n",
       "2                             Unturned              191\n",
       "3      Counter-Strike Global Offensive               91\n",
       "4           Sid Meier's Civilization V               88\n",
       "5                        Left 4 Dead 2               61\n",
       "6                     Empire Total War               43\n",
       "7         Counter-Strike Nexon Zombies               39\n",
       "8  Serious Sam HD The Second Encounter               32\n",
       "9           The Elder Scrolls V Skyrim               30"
      ]
     },
     "execution_count": 40,
     "metadata": {},
     "output_type": "execute_result"
    }
   ],
   "source": [
    "users_ids = purchase_df['User id'].isin(\n",
    "    games_purchased[games_purchased.Purchases == 1]['User id']\n",
    ")\n",
    "one_game_df = purchase_df[users_ids]\n",
    "group = one_game_df.groupby('Title')\n",
    "taste_one_game = group.count()\n",
    "rank = taste_one_game['User id'].sort_values(ascending=False)\n",
    "\n",
    "print('Most purchased games by people that only own one game\\n')\n",
    "rank = rank.reset_index()\n",
    "rank.columns = ['Title', 'Number of users']\n",
    "rank[:10]"
   ]
  },
  {
   "cell_type": "code",
   "execution_count": 41,
   "metadata": {
    "collapsed": false
   },
   "outputs": [
    {
     "name": "stdout",
     "output_type": "stream",
     "text": [
      "Dota 2 purchases are 50.20 % of the total amount\n"
     ]
    }
   ],
   "source": [
    "print(\n",
    "    'Dota 2 purchases are {0:.2f} % of the total amount'.format(\n",
    "        100 * rank['Number of users'][0]/rank['Number of users'][:].sum()))"
   ]
  },
  {
   "cell_type": "markdown",
   "metadata": {},
   "source": [
    "### Remark\n",
    "\n",
    "* Dota 2 corresponds to **more than half** of the purchases of players with just one game\n",
    "* Those people made a Steam account just for playing Dota 2\n",
    "* Since the number of players with only one game corresponds to the vast majority of cases (more than 40 % of the users), we can conclude that Dota 2 is a big responsible for this huge amount of one purchase users\n",
    "* **Question 1**: it is possible that people with more than one game, have entered Steam because of Dota 2, then purchased other games? We would need a history of dated purchases to answer this question\n",
    "* **Question 2**: this huge percentage of Dota players holds true for user with more than one game? This question is trick to answer. Let's see below why.\n"
   ]
  },
  {
   "cell_type": "markdown",
   "metadata": {},
   "source": [
    "## Percentage of Dota 2 players vs number of games purchased"
   ]
  },
  {
   "cell_type": "code",
   "execution_count": 42,
   "metadata": {
    "collapsed": false
   },
   "outputs": [],
   "source": [
    "max_games = games_purchased.Purchases.values.max()\n",
    "dota2_num_players = []\n",
    "\n",
    "for i in range(1, max_games + 1):\n",
    "    \n",
    "    users_ids = purchase_df['User id'].isin(\n",
    "        games_purchased[games_purchased.Purchases == i]['User id']\n",
    "    )\n",
    "    dota2_df = purchase_df[users_ids]\n",
    "    group = dota2_df.groupby('Title')\n",
    "    taste = group.count()['User id']\n",
    "    taste = taste.reset_index()\n",
    "    taste.columns = ['Title', 'Number of users']\n",
    "    num_users = taste[\n",
    "        taste.Title == 'Dota 2']['Number of users'].values\n",
    "    if not num_users:\n",
    "        num_users = [0]\n",
    "    \n",
    "    dota2_num_players.append(num_users[0])\n",
    "    \n",
    "bin_number = games_purchased.Purchases.max() - games_purchased.Purchases.min() + 1 \n",
    "hist = np.histogram(\n",
    "    games_purchased.Purchases, bins=bin_number)[0]\n",
    "\n",
    "ratio = [\n",
    "    dota2/total if total != 0 else 0 for \n",
    "    dota2, total in zip(dota2_num_players, hist)]"
   ]
  },
  {
   "cell_type": "code",
   "execution_count": 43,
   "metadata": {
    "collapsed": false
   },
   "outputs": [
    {
     "data": {
      "text/html": [
       "<iframe id=\"igraph\" scrolling=\"no\" style=\"border:none;\" seamless=\"seamless\" src=\"https://plot.ly/~ArthurZanatta/102.embed\" height=\"525px\" width=\"100%\"></iframe>"
      ],
      "text/plain": [
       "<plotly.tools.PlotlyDisplay object>"
      ]
     },
     "execution_count": 43,
     "metadata": {},
     "output_type": "execute_result"
    }
   ],
   "source": [
    "range_ = 1048\n",
    "\n",
    "trace1 = go.Bar(\n",
    "    x=list(range(range_)),\n",
    "    y=ratio[:range_],\n",
    "    \n",
    ")\n",
    "\n",
    "data = [trace1]\n",
    "layout = go.Layout(\n",
    "    title='Percentage of Dota 2 players vs number of games purchased',\n",
    "    xaxis=dict(\n",
    "        title='Number of purchased games',\n",
    "        ),\n",
    "    yaxis=dict(\n",
    "        title='Percentage of Dota 2 players',\n",
    "        )\n",
    "    )\n",
    "fig = go.Figure(data=data, layout=layout)\n",
    "py.iplot(fig, filename='Dota2 percentage')"
   ]
  },
  {
   "cell_type": "markdown",
   "metadata": {},
   "source": [
    "### Remarks\n",
    "\n",
    "* From the visualization, we can see that for several high values of number of purchased games, the percentage of users that own Dota 2 is 100 %. **However**, we should remember that these high numbers of purchased games are outliers with few samples, therefore those percentages are not reliable estimators of our distribution\n",
    "* We would need a more uniform distribution (with a lot of samples) among users with a certain amount of games, in order to the visualization above to give us some real information"
   ]
  },
  {
   "cell_type": "markdown",
   "metadata": {},
   "source": [
    "## Final visualization\n",
    "\n",
    "In this final visualization, we will try to incorporate some of the major conclusions we arrieved"
   ]
  },
  {
   "cell_type": "code",
   "execution_count": 47,
   "metadata": {
    "collapsed": false
   },
   "outputs": [
    {
     "data": {
      "text/html": [
       "<iframe id=\"igraph\" scrolling=\"no\" style=\"border:none;\" seamless=\"seamless\" src=\"https://plot.ly/~ArthurZanatta/104.embed\" height=\"525px\" width=\"100%\"></iframe>"
      ],
      "text/plain": [
       "<plotly.tools.PlotlyDisplay object>"
      ]
     },
     "execution_count": 47,
     "metadata": {},
     "output_type": "execute_result"
    }
   ],
   "source": [
    "titles = top.Title.values\n",
    "titles[3] = 'Counter-Strike GO'\n",
    "titles[9] = 'Half-Life 2 DM'\n",
    "\n",
    "bar_color = [\n",
    "    'rgb(0,0,200)',\n",
    "    'rgb(0,0,200)',\n",
    "    'rgb(200,0,0)',\n",
    "    'rgb(0,0,200)',\n",
    "    'rgb(0,0,200)',\n",
    "    'rgb(0,0,200)',\n",
    "    'rgb(0,0,200)',\n",
    "    'rgb(0,0,200)',\n",
    "    'rgb(0,200,0)',\n",
    "    'rgb(0,0,200)'\n",
    "]\n",
    "\n",
    "line_color = [\n",
    "    'rgb(8,48,107)',\n",
    "    'rgb(8,48,107)',\n",
    "    'rgb(8,48,107)',\n",
    "    'rgb(8,48,107)',\n",
    "    'rgb(8,48,107)',\n",
    "    'rgb(8,48,107)',\n",
    "    'rgb(8,48,107)',\n",
    "    'rgb(8,48,107)',\n",
    "    'rgb(8,48,107)',\n",
    "    'rgb(8,48,107)'\n",
    "]\n",
    "\n",
    "\n",
    "trace0 = go.Bar(\n",
    "    x=titles,\n",
    "    y=augmented_df['Number of purchasers'].values,\n",
    "    text=augmented_df.genre.values,\n",
    "    marker=dict(\n",
    "        color=bar_color,\n",
    "        line=dict(\n",
    "            color=line_color,\n",
    "            width=1.5,\n",
    "        )\n",
    "    ),\n",
    "    opacity=0.8\n",
    "    \n",
    ")\n",
    "\n",
    "data = [trace0]\n",
    "layout = go.Layout(\n",
    "    title='Top 10 most purchased games by Steam users',\n",
    "    yaxis=dict(\n",
    "        title='Purchases',\n",
    "        titlefont=dict(\n",
    "            family='Courier New, monospace',\n",
    "            size=18,\n",
    "            color='#7f7f7f'\n",
    "        )\n",
    "    )\n",
    ")\n",
    "\n",
    "text = [\n",
    "    'Valve', \n",
    "    'Smartly Dressed Games', \n",
    "    'Digital Extremes', \n",
    "    'F2P - free-to-play',\n",
    "    'P2P - pay-to-play',\n",
    "    'on - online game',\n",
    "    'off - offline game']\n",
    "\n",
    "text_color = [\n",
    "    'rgb(0,0,200)',\n",
    "    'rgb(200,0,0)',\n",
    "    'rgb(0,200,0)',\n",
    "    'rgb(0, 0, 0)',\n",
    "    'rgb(0, 0, 0)',\n",
    "    'rgb(0, 0, 0)',\n",
    "    'rgb(0, 0, 0)']\n",
    "\n",
    "game_price = augmented_df['price'].values\n",
    "game_price = [\n",
    "    'F2P' if price=='free-to-play' else 'P2P' for price in game_price]\n",
    "\n",
    "game_mode = augmented_df['online/offline'].values\n",
    "game_mode = [\n",
    "    'off' if mode=='offline' \n",
    "    else 'on/off' if mode=='online/offline'\n",
    "    else 'on' for mode in game_mode\n",
    "]\n",
    "\n",
    "annotations = []\n",
    "\n",
    "for i, _ in enumerate(text):\n",
    "    annotations.append(\n",
    "        dict(\n",
    "            x=10, y=5000 - 500 * i, text=text[i],\n",
    "            font=dict(\n",
    "                family='Arial', \n",
    "                size=12,\n",
    "                color=text_color[i]\n",
    "            ),\n",
    "        showarrow=False,)\n",
    "    )\n",
    "\n",
    "annotations += [\n",
    "    dict(\n",
    "        x=titles[i],\n",
    "        y=augmented_df['Number of purchasers'].values[i],\n",
    "        text=game_price[i],\n",
    "        xanchor='center',\n",
    "        yanchor='bottom',\n",
    "        showarrow=False,\n",
    "    ) for i, _ in enumerate(game_price)]\n",
    "\n",
    "annotations += [\n",
    "    dict(\n",
    "        x=titles[i],\n",
    "        y=augmented_df['Number of purchasers'].values[i]/2,\n",
    "        text=game_mode[i],\n",
    "        xanchor='center',\n",
    "        yanchor='bottom',\n",
    "        font=dict(\n",
    "            family='Arial', \n",
    "            size=10,\n",
    "            color='rgb(255, 255, 255)'),\n",
    "        showarrow=False,\n",
    "    ) for i, _ in enumerate(game_mode)] \n",
    "\n",
    "annotations += [\n",
    "    dict(x= 5 ,\n",
    "         y= 6000,\n",
    "         text='Developers and publishers are identified by color',\n",
    "         xanchor='center',\n",
    "         yanchor='bottom',\n",
    "         font=dict(\n",
    "            family='Arial', \n",
    "            size=12,\n",
    "            color='rgb(0, 0, 0)'),\n",
    "         showarrow=False,\n",
    "        )]\n",
    "\n",
    "annotations += [\n",
    "    dict(x= 5 ,\n",
    "         y= 5500,\n",
    "         text='Hover over the game bar to see genre',\n",
    "         xanchor='center',\n",
    "         yanchor='bottom',\n",
    "         font=dict(\n",
    "            family='Arial', \n",
    "            size=12,\n",
    "            color='rgb(0, 0, 0)'),\n",
    "         showarrow=False,\n",
    "        )]\n",
    "\n",
    "annotations += [\n",
    "    dict(x=titles[0],\n",
    "         y= 2048,\n",
    "         text='2048 purchases by players which own only one game',\n",
    "         xanchor='center',\n",
    "         yanchor='bottom',\n",
    "         font=dict(\n",
    "            family='Arial', \n",
    "            size=10,\n",
    "            color='rgb(20, 20, 20)'),\n",
    "         showarrow=True,\n",
    "        arrowhead=2,\n",
    "        arrowsize=1,\n",
    "        arrowwidth=2,\n",
    "        arrowcolor='#636363',\n",
    "        ax=200,\n",
    "        ay=-160\n",
    "    )\n",
    "]\n",
    "\n",
    "layout['annotations'] = annotations\n",
    "\n",
    "layout['shapes'] = [{\n",
    "            'type': 'line',\n",
    "            'x0': -0.4,\n",
    "            'y0': 2048,\n",
    "            'x1': 0.4,\n",
    "            'y1': 2048,\n",
    "            'line': {\n",
    "                'color': 'rgb(0, 0, 0)',\n",
    "                'width': 3,\n",
    "        }\n",
    "    }\n",
    "]\n",
    "        \n",
    "\n",
    "fig = go.Figure(data=data, layout=layout)\n",
    "py.iplot(fig, filename='top-10-purchaes-bar-chart-2')"
   ]
  },
  {
   "cell_type": "markdown",
   "metadata": {},
   "source": [
    "## Conclusion\n",
    "\n",
    "In this EDA exercise, we used the a Steam dataset obtained at [kaggle](https://www.kaggle.com/tamber/steam-video-games) to answer some questions related to the users of Steam and the games they purchase. The questions contemplated in this notebook were:\n",
    "\n",
    "* How many games users have on Steam?\n",
    "* Which are the most purchased games?\n",
    "* Purchase choices, by user profile\n",
    "* Did one game users entered Steam to play Dota 2?\n",
    "* Percentage of Dota 2 players vs number of games purchased\n",
    "\n",
    "The EDA resulted in satisfactory answers for most questions.\n",
    "\n",
    "### How many games users have on Steam?\n",
    "\n",
    "* More than 40 % of the users have at only one game on Steam\n",
    "* More than 50 % of the users have at at most two game on Steam\n",
    "* 13.53 % of users are extreme buyers (outliers), which have more than 14 games (up to 1075)\n",
    "\n",
    "\n",
    "### Which are the most purchased games?\n",
    "\n",
    "* 8 of the 10 most purchased games by Steam users are **developed and published by Valve** (The same company behind the Steam)\n",
    "* 7 of the 10 most purchased games are FPS and 8 are shoooters\n",
    "* Half of the most purchased game are mods/extensions of Half Life (3 Counter Strikes, Half Life 2 Deathmatch, Half Life 2 Lost Coast)\n",
    "* 8 of the 10 most purchased games can only be played online or are most well known for their online mode\n",
    "* There is the same amount of pay-to-play and free-to-play games in the list.\n",
    "\n",
    "### Purchase choices, by user profile\n",
    "\n",
    "* The top 10 purchased games **are different** for extreme, standard and total buyers. The difference is both in content (different games) and order (same game in different positions)\n",
    "* Dota 2 was ranked number 3 for extreme purchasers, whereas is number 1 by far in the two other ranking\n",
    "\n",
    "### Did one game users entered Steam to play Dota 2?\n",
    "\n",
    "* Dota 2 corresponds to **more than half** of the purchases of players with just one game. Those people made a Steam account just for playing Dota 2\n",
    "* Since the number of players with only one game corresponds to the vast majority of cases (more than 40 % of the users), we can conclude that Dota 2 is a big responsible for this huge amount of one purchase users\n",
    "\n",
    "### Percentage of Dota 2 players vs number of games purchased\n",
    "\n",
    "Unfortunatly, the percentage of Dota 2 players as a function of the number of purchases is not a reliable estimator, because there is few samples for games purchases > 2\n",
    "\n",
    "### Final visualization\n",
    "\n",
    "The final visualization summarize a lot of the answers digged in this notebook. It highlights the answers of the questions 'Which are the most purchased games?' and ' Did one game users entered Steam to play Dota 2?'."
   ]
  },
  {
   "cell_type": "code",
   "execution_count": null,
   "metadata": {
    "collapsed": true
   },
   "outputs": [],
   "source": []
  }
 ],
 "metadata": {
  "kernelspec": {
   "display_name": "Python IA369",
   "language": "python",
   "name": ".ia369"
  },
  "language_info": {
   "codemirror_mode": {
    "name": "ipython",
    "version": 3
   },
   "file_extension": ".py",
   "mimetype": "text/x-python",
   "name": "python",
   "nbconvert_exporter": "python",
   "pygments_lexer": "ipython3",
   "version": "3.5.2"
  }
 },
 "nbformat": 4,
 "nbformat_minor": 1
}
